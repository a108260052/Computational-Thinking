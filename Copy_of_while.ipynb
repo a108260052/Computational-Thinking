{
  "nbformat": 4,
  "nbformat_minor": 0,
  "metadata": {
    "colab": {
      "name": "Copy of while.ipynb",
      "provenance": []
    },
    "kernelspec": {
      "name": "python3",
      "display_name": "Python 3"
    }
  },
  "cells": [
    {
      "cell_type": "code",
      "metadata": {
        "id": "u9NVs5bAoU1F",
        "colab_type": "code",
        "colab": {}
      },
      "source": [
        "x = 5\n",
        "if x < 10:\n",
        "    print(\"x小於10!\")\n",
        "x = 5 \n",
        "while x < 10: \n",
        "    print(\"x小於10!\")\n",
        "\n",
        "x = 5\n",
        "while x < 10: \n",
        "   print(\"x小於10!\")\n",
        "   print(\"我還在迴圈中!!\") \n",
        "\n",
        "x = 5 \n",
        "while x < 10: \n",
        "    print(\"x小於10!\")\n",
        "    print(\"我要出迴圈!!\")\n",
        "    x = 100 #變更條件\n",
        "    print(\"我出來了\")\n",
        "\n",
        "x = 5 \n",
        "while x < 10: \n",
        "    print(\"x小於10!\")\n",
        "    print(\"我要出迴圈!!\")\n",
        "    x = x + 1 \n",
        "    print(\"我出來了\")"
      ],
      "execution_count": 0,
      "outputs": []
    },
    {
      "cell_type": "code",
      "metadata": {
        "id": "ceo5C1DVpDkq",
        "colab_type": "code",
        "colab": {}
      },
      "source": [
        "x = 1\n",
        "while x < 5 :\n",
        "    print(\"變數x是\", x)\n",
        "    x = x + 1\n",
        "    print(\"Finished\")"
      ],
      "execution_count": 0,
      "outputs": []
    },
    {
      "cell_type": "code",
      "metadata": {
        "id": "wSmQBHiurSNN",
        "colab_type": "code",
        "outputId": "29dad5da-4f19-4f3b-9b48-1ce56e2341af",
        "colab": {
          "base_uri": "https://localhost:8080/"
        }
      },
      "source": [
        "x = 0 \n",
        "while x < 10: \n",
        "    x = x + 1 \n",
        "    print(\"This is\",x, \"times hello\")"
      ],
      "execution_count": 0,
      "outputs": [
        {
          "output_type": "stream",
          "text": [
            "This is 1 times hello\n",
            "This is 2 times hello\n",
            "This is 3 times hello\n",
            "This is 4 times hello\n",
            "This is 5 times hello\n",
            "This is 6 times hello\n",
            "This is 7 times hello\n",
            "This is 8 times hello\n",
            "This is 9 times hello\n",
            "This is 10 times hello\n"
          ],
          "name": "stdout"
        }
      ]
    },
    {
      "cell_type": "code",
      "metadata": {
        "id": "02Wv1I8hs4Eq",
        "colab_type": "code",
        "colab": {}
      },
      "source": [
        "x = 0 \n",
        "while x < 10: \n",
        "    print(\"hello\")\n",
        "    x = x + 1"
      ],
      "execution_count": 0,
      "outputs": []
    },
    {
      "cell_type": "code",
      "metadata": {
        "id": "CGL1xaFnt5EF",
        "colab_type": "code",
        "outputId": "e044c17f-5822-40d9-a1cb-43a65e679321",
        "colab": {
          "base_uri": "https://localhost:8080/"
        }
      },
      "source": [
        "x = 0\n",
        "sum = 0\n",
        "\n",
        "while x < 10\n",
        "    x = x + 1\n",
        "    sum =sum + x\n",
        "    print(\"Sum is\",sum)\n",
        "print(\"finished\")"
      ],
      "execution_count": 0,
      "outputs": [
        {
          "output_type": "error",
          "ename": "SyntaxError",
          "evalue": "ignored",
          "traceback": [
            "\u001b[0;36m  File \u001b[0;32m\"<ipython-input-24-fdbb1bc5d031>\"\u001b[0;36m, line \u001b[0;32m4\u001b[0m\n\u001b[0;31m    while x < 10\u001b[0m\n\u001b[0m                ^\u001b[0m\n\u001b[0;31mSyntaxError\u001b[0m\u001b[0;31m:\u001b[0m invalid syntax\n"
          ]
        }
      ]
    },
    {
      "cell_type": "code",
      "metadata": {
        "id": "xpvCS8EzwJvr",
        "colab_type": "code",
        "colab": {}
      },
      "source": [
        "x = 0\n",
        "sum = 0\n",
        "\n",
        "while x <=50\n",
        "    x = x + 1\n",
        "    sum =sum + x\n",
        "    print(\"Sum is\",sum)\n",
        "print(\"finished\")"
      ],
      "execution_count": 0,
      "outputs": []
    },
    {
      "cell_type": "code",
      "metadata": {
        "id": "V-IyOvC3xfKS",
        "colab_type": "code",
        "colab": {}
      },
      "source": [
        "sum = 0 \n",
        "x = 1\n",
        "while x < 11: \n",
        "sum = sum + x \n",
        "x = x + 2\n",
        "print(\"1 + 3 + 5 + 7 + 9 = \", sum)"
      ],
      "execution_count": 0,
      "outputs": []
    },
    {
      "cell_type": "code",
      "metadata": {
        "id": "a71HE2eOxj0e",
        "colab_type": "code",
        "colab": {}
      },
      "source": [
        "sum = 0\n",
        "i = 0\n",
        "while sum <= 1000:\n",
        "i += 1\n",
        "sum += i*i\n",
        "print('最小的n值為', i)"
      ],
      "execution_count": 0,
      "outputs": []
    }
  ]
}