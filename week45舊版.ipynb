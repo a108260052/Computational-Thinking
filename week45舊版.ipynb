{
  "nbformat": 4,
  "nbformat_minor": 0,
  "metadata": {
    "colab": {
      "name": "week45舊版.ipynb",
      "provenance": [],
      "collapsed_sections": []
    },
    "kernelspec": {
      "name": "python3",
      "display_name": "Python 3"
    }
  },
  "cells": [
    {
      "cell_type": "code",
      "metadata": {
        "id": "27XzwwHZMknZ",
        "colab_type": "code",
        "outputId": "d405cbc3-dcb2-48b7-9e75-2687bf9ba3e7",
        "colab": {
          "base_uri": "https://localhost:8080/",
          "height": 102
        }
      },
      "source": [
        "a=int(input(\"第一次期中考成績\"))\n",
        "b=int(input(\"第二次期中考成績\"))\n",
        "c=int(input(\"期末考成績\"))\n",
        "print(a+b+c)\n",
        "print((a+b+c)/3)"
      ],
      "execution_count": 0,
      "outputs": [
        {
          "output_type": "stream",
          "text": [
            "第一次期中考成績75\n",
            "第二次期中考成績80\n",
            "期末考成績65\n",
            "220\n",
            "73.33333333333333\n"
          ],
          "name": "stdout"
        }
      ]
    },
    {
      "cell_type": "code",
      "metadata": {
        "id": "iHgaYpRuSRLq",
        "colab_type": "code",
        "outputId": "92b94d63-b5f1-4afe-c41d-f561f4658fbe",
        "colab": {
          "base_uri": "https://localhost:8080/",
          "height": 34
        }
      },
      "source": [
        "d=int(input(\"請輸入幾尺\"))\n",
        "print(d,\"尺\")\n",
        "e=int(input(\"請輸入幾吋\"))\n",
        "print(e,\"吋\")\n",
        "f=(d*)"
      ],
      "execution_count": 0,
      "outputs": [
        {
          "output_type": "execute_result",
          "data": {
            "text/plain": [
              "73.33333333333333"
            ]
          },
          "metadata": {
            "tags": []
          },
          "execution_count": 2
        }
      ]
    }
  ]
}