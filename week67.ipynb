{
  "nbformat": 4,
  "nbformat_minor": 0,
  "metadata": {
    "colab": {
      "name": "week67.ipynb",
      "provenance": []
    },
    "kernelspec": {
      "name": "python3",
      "display_name": "Python 3"
    }
  },
  "cells": [
    {
      "cell_type": "code",
      "metadata": {
        "id": "7v7rRkEyadHJ",
        "colab_type": "code",
        "colab": {}
      },
      "source": [
        "player = \"Ron Harper\"\n",
        "player_list = [\"Ron Harper\", \"Michael Jordan\", \"Scottie Pippen\", \"Dennis Rodman\", \"Luc\n",
        "Longley\"]\n",
        "player_tuple = tuple(player_list)\n",
        "player_dict = {\n",
        "\"PG\": \"Ron Harper\",\n",
        "\"SG\": \"Michael Jordan\",\n",
        "\"SF\": \"Scottie Pippen\",\n",
        "\"PF\": \"Dennis Rodman\",\n",
        "\"C\": \"Luc Longley\"\n",
        "}\n",
        "player_set = set(player_list)\n",
        "print(type(player))\n",
        "print(type(player_list))\n",
        "print(type(player_tuple))\n",
        "print(type(player_dict))\n",
        "print(type(player_set))"
      ],
      "execution_count": 0,
      "outputs": []
    },
    {
      "cell_type": "code",
      "metadata": {
        "id": "C0k1wKNhaoM1",
        "colab_type": "code",
        "colab": {}
      },
      "source": [
        "s1 = '春眠不覺曉,處處聞啼鳥。'\n",
        "print(s1)"
      ],
      "execution_count": 0,
      "outputs": []
    },
    {
      "cell_type": "code",
      "metadata": {
        "id": "z5OMtfwHa2tr",
        "colab_type": "code",
        "colab": {
          "base_uri": "https://localhost:8080/",
          "height": 34
        },
        "outputId": "69ac0ea1-30cd-4d1d-d2da-25f77232bbc6"
      },
      "source": [
        "s2 = \"夜來風雨聲,花落知多少。\"\n",
        "print(s2)"
      ],
      "execution_count": 3,
      "outputs": [
        {
          "output_type": "stream",
          "text": [
            "夜來風雨聲,花落知多少。\n"
          ],
          "name": "stdout"
        }
      ]
    },
    {
      "cell_type": "code",
      "metadata": {
        "id": "Z-VEfCxaa6IZ",
        "colab_type": "code",
        "colab": {
          "base_uri": "https://localhost:8080/",
          "height": 51
        },
        "outputId": "f0c145a0-4f0e-44ee-c3f1-000ca6b4ae4e"
      },
      "source": [
        "s3 = '作者\"孟浩然\" 詩名\"春曉\"'\n",
        "print(s3)\n",
        "s4 = \"作者'孟浩然' 詩名'春曉'\"\n",
        "print(s4)"
      ],
      "execution_count": 2,
      "outputs": [
        {
          "output_type": "stream",
          "text": [
            "作者\"孟浩然\" 詩名\"春曉\"\n",
            "作者'孟浩然' 詩名'春曉'\n"
          ],
          "name": "stdout"
        }
      ]
    },
    {
      "cell_type": "code",
      "metadata": {
        "id": "fs5UMB5UbCQF",
        "colab_type": "code",
        "colab": {
          "base_uri": "https://localhost:8080/",
          "height": 85
        },
        "outputId": "9d9ea105-1468-45f7-c5c1-772b3252f12a"
      },
      "source": [
        "s5 = ''' 春眠不覺曉,處處聞啼鳥。\n",
        "夜來風雨聲,花落知多少。\n",
        "作者\"孟浩然\" 詩名\"春曉\"\n",
        "'''\n",
        "print(s5)"
      ],
      "execution_count": 4,
      "outputs": [
        {
          "output_type": "stream",
          "text": [
            " 春眠不覺曉,處處聞啼鳥。\n",
            "夜來風雨聲,花落知多少。\n",
            "作者\"孟浩然\" 詩名\"春曉\"\n",
            "\n"
          ],
          "name": "stdout"
        }
      ]
    },
    {
      "cell_type": "code",
      "metadata": {
        "id": "3KgO_ZaXbH5K",
        "colab_type": "code",
        "colab": {
          "base_uri": "https://localhost:8080/",
          "height": 34
        },
        "outputId": "88b72e35-461c-4d00-ae37-62baa3be7c50"
      },
      "source": [
        "s1 =\"123\"\n",
        "s2 = \"456\"\n",
        "s3 = s1 + s2\n",
        "print(s3)"
      ],
      "execution_count": 5,
      "outputs": [
        {
          "output_type": "stream",
          "text": [
            "123456\n"
          ],
          "name": "stdout"
        }
      ]
    },
    {
      "cell_type": "code",
      "metadata": {
        "id": "t6rxtzz_bMQx",
        "colab_type": "code",
        "colab": {
          "base_uri": "https://localhost:8080/",
          "height": 34
        },
        "outputId": "82b2d0e2-4807-4692-89cc-a132f28127f3"
      },
      "source": [
        "s4 = s1 * 2\n",
        "print(s4)"
      ],
      "execution_count": 7,
      "outputs": [
        {
          "output_type": "stream",
          "text": [
            "123123\n"
          ],
          "name": "stdout"
        }
      ]
    },
    {
      "cell_type": "code",
      "metadata": {
        "id": "msUUPiOibOzQ",
        "colab_type": "code",
        "colab": {
          "base_uri": "https://localhost:8080/",
          "height": 68
        },
        "outputId": "17e2043a-c2e4-45b1-bb1b-b14cb49f6b83"
      },
      "source": [
        "s5 = '春眠不覺曉,處處聞啼鳥。\\n\\\n",
        "夜來風雨聲,花落知多少。\\n\\\n",
        "\\t作者\"孟浩然\" 詩名\"春曉\"'\n",
        "print(s5)"
      ],
      "execution_count": 8,
      "outputs": [
        {
          "output_type": "stream",
          "text": [
            "春眠不覺曉,處處聞啼鳥。\n",
            "夜來風雨聲,花落知多少。\n",
            "\t作者\"孟浩然\" 詩名\"春曉\"\n"
          ],
          "name": "stdout"
        }
      ]
    },
    {
      "cell_type": "code",
      "metadata": {
        "id": "TIbZ4czmbajx",
        "colab_type": "code",
        "colab": {
          "base_uri": "https://localhost:8080/",
          "height": 85
        },
        "outputId": "314b12f3-1f35-4ca6-b6a3-90fe2c6dd368"
      },
      "source": [
        "s = '0123456789'\n",
        "print(s[0])\n",
        "print('s[1]=', s[1])\n",
        "print(s[-1])\n",
        "print('s[-2]=', s[-2])"
      ],
      "execution_count": 9,
      "outputs": [
        {
          "output_type": "stream",
          "text": [
            "0\n",
            "s[1]= 1\n",
            "9\n",
            "s[-2]= 8\n"
          ],
          "name": "stdout"
        }
      ]
    },
    {
      "cell_type": "code",
      "metadata": {
        "id": "uW0PkFrDbgX2",
        "colab_type": "code",
        "colab": {
          "base_uri": "https://localhost:8080/",
          "height": 204
        },
        "outputId": "d76cd3a5-b504-4ca0-d017-244d1da71757"
      },
      "source": [
        "s = '0123456789'\n",
        "print('s=', s, 's[:]=', s[:])\n",
        "print('s=', s, 's[5:]=', s[5:])\n",
        "print('s=', s, 's[-2:]=', s[-2:])\n",
        "print('s=', s, 's[:5]=', s[:5])\n",
        "print('s=', s, 's[:-2]=', s[:-2])\n",
        "print('s=', s, 's[7:9]=', s[7:9])\n",
        "print('s=', s, 's[-4:-1]=', s[-4:-1])\n",
        "print('s=', s, 's[5:-2]=', s[5:-2])\n",
        "print('s=', s, 's[2:10:2]=', s[2:10:2])\n",
        "print('s=', s, 's[::-1]=', s[::-1])\n",
        "print('s=', s, 's[-1::-1]=', s[-1::-1])"
      ],
      "execution_count": 10,
      "outputs": [
        {
          "output_type": "stream",
          "text": [
            "s= 0123456789 s[:]= 0123456789\n",
            "s= 0123456789 s[5:]= 56789\n",
            "s= 0123456789 s[-2:]= 89\n",
            "s= 0123456789 s[:5]= 01234\n",
            "s= 0123456789 s[:-2]= 01234567\n",
            "s= 0123456789 s[7:9]= 78\n",
            "s= 0123456789 s[-4:-1]= 678\n",
            "s= 0123456789 s[5:-2]= 567\n",
            "s= 0123456789 s[2:10:2]= 2468\n",
            "s= 0123456789 s[::-1]= 9876543210\n",
            "s= 0123456789 s[-1::-1]= 9876543210\n"
          ],
          "name": "stdout"
        }
      ]
    },
    {
      "cell_type": "code",
      "metadata": {
        "id": "2w1t1zyFbn5T",
        "colab_type": "code",
        "colab": {
          "base_uri": "https://localhost:8080/",
          "height": 34
        },
        "outputId": "32314bb1-f46f-40b7-c363-59953ca13e51"
      },
      "source": [
        "s = '春眠不覺曉,處處聞啼鳥,夜來風雨聲,花落知多少。'\n",
        "print(len(s))"
      ],
      "execution_count": 11,
      "outputs": [
        {
          "output_type": "stream",
          "text": [
            "24\n"
          ],
          "name": "stdout"
        }
      ]
    },
    {
      "cell_type": "code",
      "metadata": {
        "id": "ukNYQa3kbtWq",
        "colab_type": "code",
        "colab": {
          "base_uri": "https://localhost:8080/",
          "height": 34
        },
        "outputId": "8c30b697-5ee1-4828-8355-8188ac679e5f"
      },
      "source": [
        "s = '春眠不覺曉,處處聞啼鳥,夜來風雨聲,花落知多少。'\n",
        "list1 = s.split(',')\n",
        "print(list1)"
      ],
      "execution_count": 12,
      "outputs": [
        {
          "output_type": "stream",
          "text": [
            "['春眠不覺曉', '處處聞啼鳥', '夜來風雨聲', '花落知多少。']\n"
          ],
          "name": "stdout"
        }
      ]
    },
    {
      "cell_type": "code",
      "metadata": {
        "id": "gGNHB6Hnb47k",
        "colab_type": "code",
        "colab": {
          "base_uri": "https://localhost:8080/",
          "height": 34
        },
        "outputId": "510b6585-78f4-414e-a42b-cb237386b172"
      },
      "source": [
        "list1 = ['春眠不覺曉','處處聞啼鳥','夜來風雨聲','花落知多少。']\n",
        "s2=','.join(list1)\n",
        "print(s2)"
      ],
      "execution_count": 13,
      "outputs": [
        {
          "output_type": "stream",
          "text": [
            "春眠不覺曉,處處聞啼鳥,夜來風雨聲,花落知多少。\n"
          ],
          "name": "stdout"
        }
      ]
    },
    {
      "cell_type": "code",
      "metadata": {
        "id": "zEs4HZIbb_wA",
        "colab_type": "code",
        "colab": {
          "base_uri": "https://localhost:8080/",
          "height": 34
        },
        "outputId": "4a174476-cade-4b98-ae8f-f0613c405879"
      },
      "source": [
        "s1='春眠不覺曉,處處聞啼鳥,夜來風雨聲,花落知多少。'\n",
        "print(s1.find('花落'))"
      ],
      "execution_count": 14,
      "outputs": [
        {
          "output_type": "stream",
          "text": [
            "18\n"
          ],
          "name": "stdout"
        }
      ]
    },
    {
      "cell_type": "code",
      "metadata": {
        "id": "B3hfy-encIeF",
        "colab_type": "code",
        "colab": {
          "base_uri": "https://localhost:8080/",
          "height": 34
        },
        "outputId": "4b94d02f-6150-4fa7-d9fd-d8292523b3bd"
      },
      "source": [
        "s1='春眠不覺曉,處處聞啼鳥,夜來風雨聲,花落知多少。'\n",
        "print(s1.count('處'))"
      ],
      "execution_count": 15,
      "outputs": [
        {
          "output_type": "stream",
          "text": [
            "2\n"
          ],
          "name": "stdout"
        }
      ]
    },
    {
      "cell_type": "code",
      "metadata": {
        "id": "Vwrdy7thcM_r",
        "colab_type": "code",
        "colab": {
          "base_uri": "https://localhost:8080/",
          "height": 34
        },
        "outputId": "2cc38449-3a42-4d8a-a1e5-a8dcf5e8e5da"
      },
      "source": [
        "s1='春眠不覺曉,處處聞啼鳥,夜來風雨聲,花落知多少。'\n",
        "s3=s1.replace('春','冬')\n",
        "print(s3)"
      ],
      "execution_count": 16,
      "outputs": [
        {
          "output_type": "stream",
          "text": [
            "冬眠不覺曉,處處聞啼鳥,夜來風雨聲,花落知多少。\n"
          ],
          "name": "stdout"
        }
      ]
    },
    {
      "cell_type": "code",
      "metadata": {
        "id": "OlES5PdxcVB6",
        "colab_type": "code",
        "colab": {
          "base_uri": "https://localhost:8080/",
          "height": 34
        },
        "outputId": "472b5f76-025f-4ccb-83f5-7fc14354d6ce"
      },
      "source": [
        "s1='An apple a day.'\n",
        "print(s1.capitalize())"
      ],
      "execution_count": 17,
      "outputs": [
        {
          "output_type": "stream",
          "text": [
            "An apple a day.\n"
          ],
          "name": "stdout"
        }
      ]
    },
    {
      "cell_type": "code",
      "metadata": {
        "id": "U_YkW7lBcaXe",
        "colab_type": "code",
        "colab": {
          "base_uri": "https://localhost:8080/",
          "height": 34
        },
        "outputId": "a1390a99-a779-4e29-fada-856824aad2fa"
      },
      "source": [
        "s1='An apple a day.'\n",
        "print(s1.title())"
      ],
      "execution_count": 18,
      "outputs": [
        {
          "output_type": "stream",
          "text": [
            "An Apple A Day.\n"
          ],
          "name": "stdout"
        }
      ]
    },
    {
      "cell_type": "code",
      "metadata": {
        "id": "fFSSR1gTch8n",
        "colab_type": "code",
        "colab": {
          "base_uri": "https://localhost:8080/",
          "height": 34
        },
        "outputId": "5a65031d-5842-4a1b-fbab-810d6ef67a58"
      },
      "source": [
        "s1='An apple a day.'\n",
        "print(s1.swapcase())"
      ],
      "execution_count": 19,
      "outputs": [
        {
          "output_type": "stream",
          "text": [
            "aN APPLE A DAY.\n"
          ],
          "name": "stdout"
        }
      ]
    },
    {
      "cell_type": "code",
      "metadata": {
        "id": "qidsl1uKcpl8",
        "colab_type": "code",
        "colab": {
          "base_uri": "https://localhost:8080/",
          "height": 34
        },
        "outputId": "8ac3d9e5-4a3c-4d07-e3ee-383c0fd0c0c7"
      },
      "source": [
        "s1='An apple a day.'\n",
        "print(s1.upper())"
      ],
      "execution_count": 20,
      "outputs": [
        {
          "output_type": "stream",
          "text": [
            "AN APPLE A DAY.\n"
          ],
          "name": "stdout"
        }
      ]
    },
    {
      "cell_type": "code",
      "metadata": {
        "id": "1kZz6lxBctXz",
        "colab_type": "code",
        "colab": {
          "base_uri": "https://localhost:8080/",
          "height": 34
        },
        "outputId": "eab1cc3a-5948-4e91-b510-b7c631b28284"
      },
      "source": [
        "s1='An apple a day.'\n",
        "print(s1.lower())"
      ],
      "execution_count": 21,
      "outputs": [
        {
          "output_type": "stream",
          "text": [
            "an apple a day.\n"
          ],
          "name": "stdout"
        }
      ]
    },
    {
      "cell_type": "code",
      "metadata": {
        "id": "gHGFcBIPcwn6",
        "colab_type": "code",
        "colab": {
          "base_uri": "https://localhost:8080/",
          "height": 85
        },
        "outputId": "142e7659-b5b0-49e6-e3fc-01577df4bb97"
      },
      "source": [
        "t1 = ()\n",
        "print(t1)\n",
        "t2 = ('z', )\n",
        "print(t2)\n",
        "t3 = (1, 2, 3)\n",
        "print(t3)\n",
        "t4 = (1,2,3,4)\n",
        "t5 = (t4,5,6)\n",
        "print(t5)"
      ],
      "execution_count": 22,
      "outputs": [
        {
          "output_type": "stream",
          "text": [
            "()\n",
            "('z',)\n",
            "(1, 2, 3)\n",
            "((1, 2, 3, 4), 5, 6)\n"
          ],
          "name": "stdout"
        }
      ]
    },
    {
      "cell_type": "code",
      "metadata": {
        "id": "tLXqkzjyc4gu",
        "colab_type": "code",
        "colab": {
          "base_uri": "https://localhost:8080/",
          "height": 34
        },
        "outputId": "4273fa6b-fb89-4e70-9df4-d6b5f5014a66"
      },
      "source": [
        "list1=[1,2,3,4]\n",
        "t6 = tuple(list1)\n",
        "print(t6)"
      ],
      "execution_count": 23,
      "outputs": [
        {
          "output_type": "stream",
          "text": [
            "(1, 2, 3, 4)\n"
          ],
          "name": "stdout"
        }
      ]
    },
    {
      "cell_type": "code",
      "metadata": {
        "id": "tvPK_j9cc-Mi",
        "colab_type": "code",
        "colab": {
          "base_uri": "https://localhost:8080/",
          "height": 68
        },
        "outputId": "266843ba-2d9e-42dc-d2f0-9210e4ab62c7"
      },
      "source": [
        "t1= (1,2,3,4)\n",
        "t2 = (5,6,t2)\n",
        "print(len(t2))\n",
        "print(t2[0])\n",
        "print(t2[2][0])"
      ],
      "execution_count": 25,
      "outputs": [
        {
          "output_type": "stream",
          "text": [
            "3\n",
            "5\n",
            "z\n"
          ],
          "name": "stdout"
        }
      ]
    },
    {
      "cell_type": "code",
      "metadata": {
        "id": "8mt3Hi1HdCDi",
        "colab_type": "code",
        "colab": {
          "base_uri": "https://localhost:8080/",
          "height": 85
        },
        "outputId": "f80beb80-1710-452f-d111-33b11e0b5946"
      },
      "source": [
        "shoplist = ['牛奶', '蛋', '咖啡豆', '西瓜', '鳳梨']\n",
        "print('購物清單shoplist為')\n",
        "print(shoplist)\n",
        "listm = [1, 2.0, 'Python']\n",
        "print(\"串列可以包含各種資料型別的元素\")\n",
        "print(listm)"
      ],
      "execution_count": 26,
      "outputs": [
        {
          "output_type": "stream",
          "text": [
            "購物清單shoplist為\n",
            "['牛奶', '蛋', '咖啡豆', '西瓜', '鳳梨']\n",
            "串列可以包含各種資料型別的元素\n",
            "[1, 2.0, 'Python']\n"
          ],
          "name": "stdout"
        }
      ]
    },
    {
      "cell_type": "code",
      "metadata": {
        "id": "NtvKDc26dROF",
        "colab_type": "code",
        "colab": {
          "base_uri": "https://localhost:8080/",
          "height": 34
        },
        "outputId": "1f464647-1358-4415-f6bd-d4318c9889bd"
      },
      "source": [
        "tuple2 = ('a', 'b', 1, 2)\n",
        "list2 = list(tuple2)\n",
        "print(list2)"
      ],
      "execution_count": 27,
      "outputs": [
        {
          "output_type": "stream",
          "text": [
            "['a', 'b', 1, 2]\n"
          ],
          "name": "stdout"
        }
      ]
    },
    {
      "cell_type": "code",
      "metadata": {
        "id": "7mkAkLx3dTpw",
        "colab_type": "code",
        "colab": {
          "base_uri": "https://localhost:8080/",
          "height": 34
        },
        "outputId": "daeeafe8-e4a1-4347-9e59-92960cca44e8"
      },
      "source": [
        "shoplist1 = ['牛奶', '蛋', '咖啡豆']\n",
        "shoplist2 = ['西瓜', '鳳梨']\n",
        "shoplist_all = shoplist1 + shoplist2\n",
        "print(shoplist_all)"
      ],
      "execution_count": 28,
      "outputs": [
        {
          "output_type": "stream",
          "text": [
            "['牛奶', '蛋', '咖啡豆', '西瓜', '鳳梨']\n"
          ],
          "name": "stdout"
        }
      ]
    },
    {
      "cell_type": "code",
      "metadata": {
        "id": "LWTaKeHfdYf_",
        "colab_type": "code",
        "colab": {
          "base_uri": "https://localhost:8080/",
          "height": 34
        },
        "outputId": "4bd17952-e189-474d-d8cc-001c1f0f09f3"
      },
      "source": [
        "shoplist = ['牛奶', '蛋', '咖啡豆', '西瓜', '鳳梨']\n",
        "print('顯示shoplist[0]為',shoplist[0])"
      ],
      "execution_count": 29,
      "outputs": [
        {
          "output_type": "stream",
          "text": [
            "顯示shoplist[0]為 牛奶\n"
          ],
          "name": "stdout"
        }
      ]
    },
    {
      "cell_type": "code",
      "metadata": {
        "id": "NmTv6qe1dgz7",
        "colab_type": "code",
        "colab": {
          "base_uri": "https://localhost:8080/",
          "height": 51
        },
        "outputId": "7a75503a-db9f-4d92-c150-51aa17d35afa"
      },
      "source": [
        "shoplist = ['牛奶', '蛋', '咖啡豆', '西瓜', '鳳梨']\n",
        "index = shoplist.index('咖啡豆')\n",
        "print(\"執行 index = shoplist.index('咖啡豆') 後\")\n",
        "print('index=', index)"
      ],
      "execution_count": 30,
      "outputs": [
        {
          "output_type": "stream",
          "text": [
            "執行 index = shoplist.index('咖啡豆') 後\n",
            "index= 2\n"
          ],
          "name": "stdout"
        }
      ]
    },
    {
      "cell_type": "code",
      "metadata": {
        "id": "h0C6Fh4XdkTw",
        "colab_type": "code",
        "colab": {
          "base_uri": "https://localhost:8080/",
          "height": 51
        },
        "outputId": "722e64a1-5f44-42b8-b911-d439be70d4fd"
      },
      "source": [
        "shoplist = ['牛奶', '蛋', '咖啡豆', '西瓜', '鳳梨']\n",
        "shoplist[1] = '皮蛋'\n",
        "print(\"執行 shoplist[1] = '皮蛋' 後\")\n",
        "print(shoplist)"
      ],
      "execution_count": 31,
      "outputs": [
        {
          "output_type": "stream",
          "text": [
            "執行 shoplist[1] = '皮蛋' 後\n",
            "['牛奶', '皮蛋', '咖啡豆', '西瓜', '鳳梨']\n"
          ],
          "name": "stdout"
        }
      ]
    },
    {
      "cell_type": "code",
      "metadata": {
        "id": "vupF2pHrduqy",
        "colab_type": "code",
        "colab": {
          "base_uri": "https://localhost:8080/",
          "height": 187
        },
        "outputId": "9137515e-0dd3-4084-ec7e-abaec0d468ea"
      },
      "source": [
        "shoplist = ['牛奶', '蛋', '咖啡豆', '西瓜', '鳳梨']\n",
        "a = list('abcdefghijk')\n",
        "print('a[:]為', a[:])\n",
        "print('a[:5]為', a[:5])\n",
        "print('a[5:]為', a[5:])\n",
        "print('a[:-5]為', a[:-5])\n",
        "print('a[-5:]為', a[-5:])\n",
        "print('a[0:4]為', a[0:4])\n",
        "print('a[-5:-3]為', a[-5:-3])\n",
        "print('a[1:10:3]為', a[1:10:3])\n",
        "print('a[-1:-4:-1]為', a[-1:-4:-1])\n",
        "print('a[::-1]為', a[::-1])"
      ],
      "execution_count": 32,
      "outputs": [
        {
          "output_type": "stream",
          "text": [
            "a[:]為 ['a', 'b', 'c', 'd', 'e', 'f', 'g', 'h', 'i', 'j', 'k']\n",
            "a[:5]為 ['a', 'b', 'c', 'd', 'e']\n",
            "a[5:]為 ['f', 'g', 'h', 'i', 'j', 'k']\n",
            "a[:-5]為 ['a', 'b', 'c', 'd', 'e', 'f']\n",
            "a[-5:]為 ['g', 'h', 'i', 'j', 'k']\n",
            "a[0:4]為 ['a', 'b', 'c', 'd']\n",
            "a[-5:-3]為 ['g', 'h']\n",
            "a[1:10:3]為 ['b', 'e', 'h']\n",
            "a[-1:-4:-1]為 ['k', 'j', 'i']\n",
            "a[::-1]為 ['k', 'j', 'i', 'h', 'g', 'f', 'e', 'd', 'c', 'b', 'a']\n"
          ],
          "name": "stdout"
        }
      ]
    },
    {
      "cell_type": "code",
      "metadata": {
        "id": "ey9u1JAHd45V",
        "colab_type": "code",
        "colab": {
          "base_uri": "https://localhost:8080/",
          "height": 34
        },
        "outputId": "c93b3a26-e431-4ff3-9922-4cb09e94b151"
      },
      "source": [
        "shoplist = ['牛奶', '蛋', '咖啡豆', '西瓜', '鳳梨']\n",
        "print('購物清單shoplist的長度為', len(shoplist))"
      ],
      "execution_count": 33,
      "outputs": [
        {
          "output_type": "stream",
          "text": [
            "購物清單shoplist的長度為 5\n"
          ],
          "name": "stdout"
        }
      ]
    },
    {
      "cell_type": "code",
      "metadata": {
        "id": "D1KuidNFd-uV",
        "colab_type": "code",
        "colab": {
          "base_uri": "https://localhost:8080/",
          "height": 51
        },
        "outputId": "5143e489-a3c1-4099-90e4-1b8e7e487658"
      },
      "source": [
        "shoplist = ['牛奶', '蛋', '咖啡豆', '西瓜', '鳳梨']\n",
        "shoplist.append('麵包')\n",
        "print(\"執行 shoplist.append('麵包')後\")\n",
        "print(shoplist)"
      ],
      "execution_count": 34,
      "outputs": [
        {
          "output_type": "stream",
          "text": [
            "執行 shoplist.append('麵包')後\n",
            "['牛奶', '蛋', '咖啡豆', '西瓜', '鳳梨', '麵包']\n"
          ],
          "name": "stdout"
        }
      ]
    },
    {
      "cell_type": "code",
      "metadata": {
        "id": "d-AHE5y0eCnC",
        "colab_type": "code",
        "colab": {
          "base_uri": "https://localhost:8080/",
          "height": 51
        },
        "outputId": "3040599b-2fda-40d1-f773-348aa49c46e0"
      },
      "source": [
        "shoplist = ['牛奶', '蛋', '咖啡豆', '西瓜', '鳳梨']\n",
        "shoplist.insert(4, '蘋果')\n",
        "print(\"執行 shoplist.insert(4, '蘋果') 後\")\n",
        "print(shoplist)"
      ],
      "execution_count": 35,
      "outputs": [
        {
          "output_type": "stream",
          "text": [
            "執行 shoplist.insert(4, '蘋果') 後\n",
            "['牛奶', '蛋', '咖啡豆', '西瓜', '蘋果', '鳳梨']\n"
          ],
          "name": "stdout"
        }
      ]
    },
    {
      "cell_type": "code",
      "metadata": {
        "id": "14B_XJs3eJEo",
        "colab_type": "code",
        "colab": {
          "base_uri": "https://localhost:8080/",
          "height": 51
        },
        "outputId": "05f934f6-610d-4eb9-a4af-ab94e78e5fd4"
      },
      "source": [
        "shoplist = ['牛奶', '蛋', '咖啡豆', '西瓜', '鳳梨']\n",
        "shoplist.remove('蛋')\n",
        "print(\"執行 shoplist.remove('蛋') 後\")\n",
        "print(shoplist)"
      ],
      "execution_count": 36,
      "outputs": [
        {
          "output_type": "stream",
          "text": [
            "執行 shoplist.remove('蛋') 後\n",
            "['牛奶', '咖啡豆', '西瓜', '鳳梨']\n"
          ],
          "name": "stdout"
        }
      ]
    },
    {
      "cell_type": "code",
      "metadata": {
        "id": "HahkmmhjeSoC",
        "colab_type": "code",
        "colab": {
          "base_uri": "https://localhost:8080/",
          "height": 51
        },
        "outputId": "26a82b65-db3a-41ba-a4b3-7892b19bd7d8"
      },
      "source": [
        "shoplist = ['牛奶', '蛋', '咖啡豆', '西瓜', '鳳梨']\n",
        "shoplist.remove('蛋')\n",
        "print(\"執行 shoplist.remove('蛋') 後\")\n",
        "print(shoplist)"
      ],
      "execution_count": 37,
      "outputs": [
        {
          "output_type": "stream",
          "text": [
            "執行 shoplist.remove('蛋') 後\n",
            "['牛奶', '咖啡豆', '西瓜', '鳳梨']\n"
          ],
          "name": "stdout"
        }
      ]
    },
    {
      "cell_type": "code",
      "metadata": {
        "id": "x1wYc6_ceVEY",
        "colab_type": "code",
        "colab": {
          "base_uri": "https://localhost:8080/",
          "height": 51
        },
        "outputId": "6b18dbed-f756-4cf6-8745-38699abff1a7"
      },
      "source": [
        "shoplist = ['牛奶', '蛋', '咖啡豆', '西瓜', '鳳梨']\n",
        "del shoplist[0]\n",
        "print(\"執行 del shoplist[0] 後\")\n",
        "print(shoplist)"
      ],
      "execution_count": 38,
      "outputs": [
        {
          "output_type": "stream",
          "text": [
            "執行 del shoplist[0] 後\n",
            "['蛋', '咖啡豆', '西瓜', '鳳梨']\n"
          ],
          "name": "stdout"
        }
      ]
    },
    {
      "cell_type": "code",
      "metadata": {
        "id": "oAzHVvHwec31",
        "colab_type": "code",
        "colab": {
          "base_uri": "https://localhost:8080/",
          "height": 119
        },
        "outputId": "420a4999-30c3-4b52-c132-5dbb0bbfdc7b"
      },
      "source": [
        "shoplist = ['牛奶', '蛋', '咖啡豆', '西瓜', '鳳梨']\n",
        "shoplist.sort()\n",
        "print(\"執行 shoplist.sort() 後\")\n",
        "print(shoplist)\n",
        "shoplist = ['milk', 'egg', 'coffee', 'watermelon']\n",
        "shoplist.sort()\n",
        "print(\"執行 shoplist.sort() 後\")\n",
        "print(shoplist)\n",
        "shoplist.sort(reverse=True)\n",
        "print(\"執行 shoplist.sort(reverse=True) 後\")\n",
        "print(shoplist)"
      ],
      "execution_count": 39,
      "outputs": [
        {
          "output_type": "stream",
          "text": [
            "執行 shoplist.sort() 後\n",
            "['咖啡豆', '牛奶', '蛋', '西瓜', '鳳梨']\n",
            "執行 shoplist.sort() 後\n",
            "['coffee', 'egg', 'milk', 'watermelon']\n",
            "執行 shoplist.sort(reverse=True) 後\n",
            "['watermelon', 'milk', 'egg', 'coffee']\n"
          ],
          "name": "stdout"
        }
      ]
    },
    {
      "cell_type": "code",
      "metadata": {
        "id": "yeW0A2dWemK1",
        "colab_type": "code",
        "colab": {
          "base_uri": "https://localhost:8080/",
          "height": 119
        },
        "outputId": "cca24bf9-4039-476c-fa03-af395173d4b9"
      },
      "source": [
        "list1 = [1, 2, 3, 4]\n",
        "list2 = list1\n",
        "print('list1=', list1)\n",
        "print('list2=', list2)\n",
        "list1[2]=19\n",
        "print('list1=', list1)\n",
        "print('list2=', list2)\n",
        "list2[2]=18\n",
        "print('list1=', list1)\n",
        "print('list2=', list2)"
      ],
      "execution_count": 40,
      "outputs": [
        {
          "output_type": "stream",
          "text": [
            "list1= [1, 2, 3, 4]\n",
            "list2= [1, 2, 3, 4]\n",
            "list1= [1, 2, 19, 4]\n",
            "list2= [1, 2, 19, 4]\n",
            "list1= [1, 2, 18, 4]\n",
            "list2= [1, 2, 18, 4]\n"
          ],
          "name": "stdout"
        }
      ]
    },
    {
      "cell_type": "code",
      "metadata": {
        "id": "3ODhnnBde2JT",
        "colab_type": "code",
        "colab": {
          "base_uri": "https://localhost:8080/",
          "height": 85
        },
        "outputId": "01f53981-fafe-45c6-dc3d-950823ee445e"
      },
      "source": [
        "list1 = [1, 2, 3, 4]\n",
        "list4 = list1.copy()\n",
        "print('list1 = ', list1)\n",
        "print('list4 = ', list4)\n",
        "list4[2] = 19\n",
        "print('list1=', list1)\n",
        "print('list4=', list4)"
      ],
      "execution_count": 42,
      "outputs": [
        {
          "output_type": "stream",
          "text": [
            "list1 =  [1, 2, 3, 4]\n",
            "list4 =  [1, 2, 3, 4]\n",
            "list1= [1, 2, 3, 4]\n",
            "list4= [1, 2, 19, 4]\n"
          ],
          "name": "stdout"
        }
      ]
    },
    {
      "cell_type": "code",
      "metadata": {
        "id": "0Jew2O35e6BH",
        "colab_type": "code",
        "colab": {
          "base_uri": "https://localhost:8080/",
          "height": 496
        },
        "outputId": "2cfb56c7-d3af-4bca-96fb-66d816a18bb5"
      },
      "source": [
        "season = \"1995-1996\"\n",
        "team = \"Chicago Bulls\"\n",
        "coach = \"Phil Jackson\"\n",
        "won_championship = True\n",
        "records = [72, 10]\n",
        "starting_lineup = [\"Ron Harper\", \"Michael Jordan\", \"Scottie Pippen\", \"Dennis Rodman\",\n",
        "\"Luc Longley\"]\n",
        "best_chicago_bulls = [season, team, coach, won_championship, records, starting_lineup]\n",
        "print(best_chicago_bulls)\n",
        "print(type(best_chicago_bulls))\n",
        "print(len(best_chicago_bulls))\n",
        "print(best_chicago_bulls[0])\n",
        "print(best_chicago_bulls[1])\n",
        "print(best_chicago_bulls[2])\n",
        "print(best_chicago_bulls[3])\n",
        "print(best_chicago_bulls[4])\n",
        "print(best_chicago_bulls[5])\n",
        "print(best_chicago_bulls[-1])\n",
        "print(best_chicago_bulls[-2])\n",
        "print(best_chicago_bulls[-3])\n",
        "print(best_chicago_bulls[-4])\n",
        "print(best_chicago_bulls[-5])\n",
        "print(best_chicago_bulls[-6])\n",
        "print(best_chicago_bulls[0:3])\n",
        "print(best_chicago_bulls[::2])\n",
        "print(best_chicago_bulls[::-1])\n",
        "best_chicago_bulls[5].append(\"Toni Kukoc\")\n",
        "print(best_chicago_bulls[5])\n",
        "best_chicago_bulls[5].insert(6, \"Toni Kukoc\")\n",
        "print(best_chicago_bulls[5])\n",
        "center = best_chicago_bulls[5].pop()\n",
        "print(center)\n",
        "print(best_chicago_bulls[5])\n",
        "best_chicago_bulls = [season, team, coach, won_championship, records, starting_lineup]\n",
        "del best_chicago_bulls[5][0]\n",
        "print(best_chicago_bulls[5])\n",
        "best_chicago_bulls = [season, team, coach, won_championship, records, starting_lineup]\n",
        "best_chicago_bulls[4].sort()\n",
        "print(best_chicago_bulls[4])\n",
        "best_chicago_bulls[4].sort(reverse=True)\n",
        "print(best_chicago_bulls[4])\n",
        "best_chicago_bulls[5].sort()\n",
        "print(best_chicago_bulls[5])\n",
        "best_chicago_bulls[5].sort(reverse=True)\n",
        "print(best_chicago_bulls[5])"
      ],
      "execution_count": 44,
      "outputs": [
        {
          "output_type": "stream",
          "text": [
            "['1995-1996', 'Chicago Bulls', 'Phil Jackson', True, [72, 10], ['Ron Harper', 'Michael Jordan', 'Scottie Pippen', 'Dennis Rodman', 'Luc Longley']]\n",
            "<class 'list'>\n",
            "6\n",
            "1995-1996\n",
            "Chicago Bulls\n",
            "Phil Jackson\n",
            "True\n",
            "[72, 10]\n",
            "['Ron Harper', 'Michael Jordan', 'Scottie Pippen', 'Dennis Rodman', 'Luc Longley']\n",
            "['Ron Harper', 'Michael Jordan', 'Scottie Pippen', 'Dennis Rodman', 'Luc Longley']\n",
            "[72, 10]\n",
            "True\n",
            "Phil Jackson\n",
            "Chicago Bulls\n",
            "1995-1996\n",
            "['1995-1996', 'Chicago Bulls', 'Phil Jackson']\n",
            "['1995-1996', 'Phil Jackson', [72, 10]]\n",
            "[['Ron Harper', 'Michael Jordan', 'Scottie Pippen', 'Dennis Rodman', 'Luc Longley'], [72, 10], True, 'Phil Jackson', 'Chicago Bulls', '1995-1996']\n",
            "['Ron Harper', 'Michael Jordan', 'Scottie Pippen', 'Dennis Rodman', 'Luc Longley', 'Toni Kukoc']\n",
            "['Ron Harper', 'Michael Jordan', 'Scottie Pippen', 'Dennis Rodman', 'Luc Longley', 'Toni Kukoc', 'Toni Kukoc']\n",
            "Toni Kukoc\n",
            "['Ron Harper', 'Michael Jordan', 'Scottie Pippen', 'Dennis Rodman', 'Luc Longley', 'Toni Kukoc']\n",
            "['Michael Jordan', 'Scottie Pippen', 'Dennis Rodman', 'Luc Longley', 'Toni Kukoc']\n",
            "[10, 72]\n",
            "[72, 10]\n",
            "['Dennis Rodman', 'Luc Longley', 'Michael Jordan', 'Scottie Pippen', 'Toni Kukoc']\n",
            "['Toni Kukoc', 'Scottie Pippen', 'Michael Jordan', 'Luc Longley', 'Dennis Rodman']\n"
          ],
          "name": "stdout"
        }
      ]
    },
    {
      "cell_type": "code",
      "metadata": {
        "id": "RI_7iW8zfDgz",
        "colab_type": "code",
        "colab": {
          "base_uri": "https://localhost:8080/",
          "height": 51
        },
        "outputId": "ee75c2ac-9de7-4fba-9654-276091d800d8"
      },
      "source": [
        "dict1={}\n",
        "print(dict1)\n",
        "lang={'早安':'Good Morning', '你好':'Hello'}\n",
        "print(lang)"
      ],
      "execution_count": 45,
      "outputs": [
        {
          "output_type": "stream",
          "text": [
            "{}\n",
            "{'早安': 'Good Morning', '你好': 'Hello'}\n"
          ],
          "name": "stdout"
        }
      ]
    },
    {
      "cell_type": "code",
      "metadata": {
        "id": "hMo9e-76fffM",
        "colab_type": "code",
        "colab": {
          "base_uri": "https://localhost:8080/",
          "height": 85
        },
        "outputId": "46e5fb1d-a896-4c3f-b3f7-15240b79c18b"
      },
      "source": [
        "a=[['早安','Good Morning'],['你好','Hello']]\n",
        "dict1 = dict(a)\n",
        "print(dict1)\n",
        "b=[('早安','Good Morning'),('你好','Hello')]\n",
        "dict2 = dict(b)\n",
        "print(dict2)\n",
        "c=(['早安','Good Morning'],['你好','Hello'])\n",
        "dict3 = dict(c)\n",
        "print(dict3)\n",
        "d=(('早安','Good Morning'),('你好','Hello'))\n",
        "dict4 = dict(d)\n",
        "print(dict4)"
      ],
      "execution_count": 46,
      "outputs": [
        {
          "output_type": "stream",
          "text": [
            "{'早安': 'Good Morning', '你好': 'Hello'}\n",
            "{'早安': 'Good Morning', '你好': 'Hello'}\n",
            "{'早安': 'Good Morning', '你好': 'Hello'}\n",
            "{'早安': 'Good Morning', '你好': 'Hello'}\n"
          ],
          "name": "stdout"
        }
      ]
    },
    {
      "cell_type": "code",
      "metadata": {
        "id": "cEa2DTeBfl-D",
        "colab_type": "code",
        "colab": {
          "base_uri": "https://localhost:8080/",
          "height": 34
        },
        "outputId": "6be18c1e-02ed-4fa5-884d-a0556e16671d"
      },
      "source": [
        "lang={'早安':'Good Morning', '你好':'Hello'}\n",
        "print('「你好」的英文為',lang['你好'])"
      ],
      "execution_count": 47,
      "outputs": [
        {
          "output_type": "stream",
          "text": [
            "「你好」的英文為 Hello\n"
          ],
          "name": "stdout"
        }
      ]
    },
    {
      "cell_type": "code",
      "metadata": {
        "id": "KB6yXQSufpoi",
        "colab_type": "code",
        "colab": {
          "base_uri": "https://localhost:8080/",
          "height": 165
        },
        "outputId": "e986bdc3-689f-4fe9-fa0c-79dad84de7be"
      },
      "source": [
        "print('「你好嗎」的英文為',lang['你好嗎'])"
      ],
      "execution_count": 48,
      "outputs": [
        {
          "output_type": "error",
          "ename": "KeyError",
          "evalue": "ignored",
          "traceback": [
            "\u001b[0;31m---------------------------------------------------------------------------\u001b[0m",
            "\u001b[0;31mKeyError\u001b[0m                                  Traceback (most recent call last)",
            "\u001b[0;32m<ipython-input-48-b70232786b87>\u001b[0m in \u001b[0;36m<module>\u001b[0;34m()\u001b[0m\n\u001b[0;32m----> 1\u001b[0;31m \u001b[0mprint\u001b[0m\u001b[0;34m(\u001b[0m\u001b[0;34m'「你好嗎」的英文為'\u001b[0m\u001b[0;34m,\u001b[0m\u001b[0mlang\u001b[0m\u001b[0;34m[\u001b[0m\u001b[0;34m'你好嗎'\u001b[0m\u001b[0;34m]\u001b[0m\u001b[0;34m)\u001b[0m\u001b[0;34m\u001b[0m\u001b[0;34m\u001b[0m\u001b[0m\n\u001b[0m",
            "\u001b[0;31mKeyError\u001b[0m: '你好嗎'"
          ]
        }
      ]
    },
    {
      "cell_type": "code",
      "metadata": {
        "id": "6Zy_DwedfvPv",
        "colab_type": "code",
        "colab": {
          "base_uri": "https://localhost:8080/",
          "height": 51
        },
        "outputId": "1a17b25a-f1e5-4fc7-fc83-5ab0c98dca89"
      },
      "source": [
        "lang={'早安':'Good Morning', '你好':'Hello'}\n",
        "lang['你好']='Hi'\n",
        "print(lang)\n",
        "lang['學生']='Student'\n",
        "print(lang)"
      ],
      "execution_count": 49,
      "outputs": [
        {
          "output_type": "stream",
          "text": [
            "{'早安': 'Good Morning', '你好': 'Hi'}\n",
            "{'早安': 'Good Morning', '你好': 'Hi', '學生': 'Student'}\n"
          ],
          "name": "stdout"
        }
      ]
    },
    {
      "cell_type": "code",
      "metadata": {
        "id": "Hfv7meekf2UQ",
        "colab_type": "code",
        "colab": {
          "base_uri": "https://localhost:8080/",
          "height": 34
        },
        "outputId": "a30e9719-8434-4127-966e-25598894aa98"
      },
      "source": [
        "lang={'早安':'Good Morning', '你好':'Hello'}\n",
        "del lang['早安']\n",
        "print(lang)"
      ],
      "execution_count": 50,
      "outputs": [
        {
          "output_type": "stream",
          "text": [
            "{'你好': 'Hello'}\n"
          ],
          "name": "stdout"
        }
      ]
    },
    {
      "cell_type": "code",
      "metadata": {
        "id": "3ogdu-Ojf5cR",
        "colab_type": "code",
        "colab": {
          "base_uri": "https://localhost:8080/",
          "height": 34
        },
        "outputId": "f048ea7c-93c9-46ad-eda5-1b1e8419b7c2"
      },
      "source": [
        "lang1={'你好':'Hello'}\n",
        "lang2={'學生':'Student'}\n",
        "lang1.update(lang2)\n",
        "print(lang1)"
      ],
      "execution_count": 51,
      "outputs": [
        {
          "output_type": "stream",
          "text": [
            "{'你好': 'Hello', '學生': 'Student'}\n"
          ],
          "name": "stdout"
        }
      ]
    },
    {
      "cell_type": "code",
      "metadata": {
        "id": "_39WcsI-f-pP",
        "colab_type": "code",
        "colab": {
          "base_uri": "https://localhost:8080/",
          "height": 51
        },
        "outputId": "21ac4d6c-04b1-4855-81f3-36835f7fa3ff"
      },
      "source": [
        "lang1 = {'早安':'Good Morning','你好':'Hello'}\n",
        "lang2 = lang1\n",
        "lang2['你好']='Hi'\n",
        "print('lang1為', lang1)\n",
        "print('lang2為', lang2)"
      ],
      "execution_count": 52,
      "outputs": [
        {
          "output_type": "stream",
          "text": [
            "lang1為 {'早安': 'Good Morning', '你好': 'Hi'}\n",
            "lang2為 {'早安': 'Good Morning', '你好': 'Hi'}\n"
          ],
          "name": "stdout"
        }
      ]
    },
    {
      "cell_type": "code",
      "metadata": {
        "id": "qWj8kkJkgD8K",
        "colab_type": "code",
        "colab": {
          "base_uri": "https://localhost:8080/",
          "height": 51
        },
        "outputId": "cd275dc8-9d6e-4065-e7b9-11cec071ccd2"
      },
      "source": [
        "lang1 = {'早安': 'Good Morning', '你好': 'Hello'}\n",
        "lang3 = lang1.copy()\n",
        "lang3['你好']='Hi'\n",
        "print('lang1為', lang1)\n",
        "print('lang3為', lang3)"
      ],
      "execution_count": 53,
      "outputs": [
        {
          "output_type": "stream",
          "text": [
            "lang1為 {'早安': 'Good Morning', '你好': 'Hello'}\n",
            "lang3為 {'早安': 'Good Morning', '你好': 'Hi'}\n"
          ],
          "name": "stdout"
        }
      ]
    },
    {
      "cell_type": "code",
      "metadata": {
        "id": "PFAgzTw5gHXM",
        "colab_type": "code",
        "colab": {
          "base_uri": "https://localhost:8080/",
          "height": 102
        },
        "outputId": "669869cd-456f-48e0-af95-09aa1c74d407"
      },
      "source": [
        "s = {1,2,3,4}\n",
        "print(s)\n",
        "s = set(('a',1,'b',2))\n",
        "print(s)\n",
        "s = set(['apple', 'banana', 'apple'])\n",
        "print(s)\n",
        "s = set({'早安':'Good Morning', '你好':'Hello'})\n",
        "print(s)\n",
        "s = set('racecar')\n",
        "print(s)"
      ],
      "execution_count": 54,
      "outputs": [
        {
          "output_type": "stream",
          "text": [
            "{1, 2, 3, 4}\n",
            "{1, 2, 'a', 'b'}\n",
            "{'apple', 'banana'}\n",
            "{'早安', '你好'}\n",
            "{'r', 'e', 'a', 'c'}\n"
          ],
          "name": "stdout"
        }
      ]
    },
    {
      "cell_type": "code",
      "metadata": {
        "id": "E4rCIZY1gMNC",
        "colab_type": "code",
        "colab": {
          "base_uri": "https://localhost:8080/",
          "height": 68
        },
        "outputId": "2712c9bd-fa0c-4b3d-951d-f80d290d5206"
      },
      "source": [
        "s = set('tiger')\n",
        "print(s)\n",
        "s.add('z')\n",
        "print(s)\n",
        "s.remove('t')\n",
        "print(s)"
      ],
      "execution_count": 55,
      "outputs": [
        {
          "output_type": "stream",
          "text": [
            "{'g', 'i', 'e', 'r', 't'}\n",
            "{'g', 'z', 'i', 'e', 'r', 't'}\n",
            "{'g', 'z', 'i', 'e', 'r'}\n"
          ],
          "name": "stdout"
        }
      ]
    },
    {
      "cell_type": "code",
      "metadata": {
        "id": "bqm1EIAcgVkl",
        "colab_type": "code",
        "colab": {
          "base_uri": "https://localhost:8080/",
          "height": 102
        },
        "outputId": "3a960f09-7df5-42a2-b0dd-76106347633b"
      },
      "source": [
        "a = set('tiger')\n",
        "b = set('bear')\n",
        "print(a)\n",
        "print(b)\n",
        "print(a | b)\n",
        "print(a & b)\n",
        "print(a - b)"
      ],
      "execution_count": 56,
      "outputs": [
        {
          "output_type": "stream",
          "text": [
            "{'g', 'i', 'e', 'r', 't'}\n",
            "{'r', 'a', 'e', 'b'}\n",
            "{'g', 'i', 'a', 'e', 'b', 'r', 't'}\n",
            "{'r', 'e'}\n",
            "{'t', 'g', 'i'}\n"
          ],
          "name": "stdout"
        }
      ]
    },
    {
      "cell_type": "code",
      "metadata": {
        "id": "pIU5yzwjgdYY",
        "colab_type": "code",
        "colab": {}
      },
      "source": [
        "a = set('tiger')\n",
        "b = set('tigers')\n",
        "print(a<=b)\n",
        "a = set('tiger')\n",
        "b = set('tigers')\n",
        "print(a<b)"
      ],
      "execution_count": 0,
      "outputs": []
    }
  ]
}