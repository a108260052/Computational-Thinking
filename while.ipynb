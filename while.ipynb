{
  "nbformat": 4,
  "nbformat_minor": 0,
  "metadata": {
    "colab": {
      "name": "while.ipynb",
      "provenance": []
    },
    "kernelspec": {
      "name": "python3",
      "display_name": "Python 3"
    }
  },
  "cells": [
    {
      "cell_type": "code",
      "metadata": {
        "id": "vDzvu4yiw8oI",
        "colab_type": "code",
        "colab": {
          "base_uri": "https://localhost:8080/",
          "height": 51
        },
        "outputId": "6aaa62a1-8b97-41d0-d970-8f079aeba995"
      },
      "source": [
        "n = int(input('請輸入n值?'))\n",
        "sum = 0;\n",
        "for i in range(1,n+1):\n",
        "    sum = sum + i*i;\n",
        "print(sum)"
      ],
      "execution_count": 1,
      "outputs": [
        {
          "output_type": "stream",
          "text": [
            "請輸入n值?5\n",
            "55\n"
          ],
          "name": "stdout"
        }
      ]
    },
    {
      "cell_type": "code",
      "metadata": {
        "id": "Au5l2ZPwyO6w",
        "colab_type": "code",
        "colab": {
          "base_uri": "https://localhost:8080/",
          "height": 85
        },
        "outputId": "a05617c2-fcbf-4d7d-e8eb-127a1f3120e3"
      },
      "source": [
        "a = int(input(\"請輸入第1個數字:\"))\n",
        "b = int(input(\"請輸入第2個數字:\"))\n",
        "for c in range(a, 1, -1):\n",
        "    if (a % c == 0 and b % c == 0):\n",
        "       break\n",
        "print(\"最大公約數 GCD =\", c)\n",
        "for c in range(a, a * b):\n",
        "    if (c % a == 0 and c % b == 0):\n",
        "       break\n",
        "print(\"最小公倍數 LCM =\", c)"
      ],
      "execution_count": 2,
      "outputs": [
        {
          "output_type": "stream",
          "text": [
            "請輸入第1個數字:36\n",
            "請輸入第2個數字:8\n",
            "最大公約數 GCD = 4\n",
            "最小公倍數 LCM = 72\n"
          ],
          "name": "stdout"
        }
      ]
    },
    {
      "cell_type": "code",
      "metadata": {
        "id": "sT9WmAppyfDW",
        "colab_type": "code",
        "colab": {
          "base_uri": "https://localhost:8080/",
          "height": 204
        },
        "outputId": "e3a7b92d-9f86-4537-e827-38b0f7e1f697"
      },
      "source": [
        "num = int(input('輸入求第幾項費氏數列?'))\n",
        "a = 1\n",
        "b = 1\n",
        "print(1,a)\n",
        "for i in range(2, num+1):\n",
        "    a, b = b, a+b\n",
        "    print(i, a)"
      ],
      "execution_count": 3,
      "outputs": [
        {
          "output_type": "stream",
          "text": [
            "輸入求第幾項費氏數列?10\n",
            "1 1\n",
            "2 1\n",
            "3 2\n",
            "4 3\n",
            "5 5\n",
            "6 8\n",
            "7 13\n",
            "8 21\n",
            "9 34\n",
            "10 55\n"
          ],
          "name": "stdout"
        }
      ]
    },
    {
      "cell_type": "code",
      "metadata": {
        "id": "xkbxYjFMytDv",
        "colab_type": "code",
        "colab": {
          "base_uri": "https://localhost:8080/",
          "height": 323
        },
        "outputId": "3564d683-31d9-445f-888f-0af2f5b0247b"
      },
      "source": [
        "import random\n",
        "while True:\n",
        "    dice = random.randint(1,6)\n",
        "    print(dice)\n",
        "    if dice == 6:\n",
        "       break"
      ],
      "execution_count": 4,
      "outputs": [
        {
          "output_type": "stream",
          "text": [
            "5\n",
            "5\n",
            "3\n",
            "5\n",
            "4\n",
            "5\n",
            "4\n",
            "4\n",
            "3\n",
            "1\n",
            "3\n",
            "2\n",
            "5\n",
            "4\n",
            "1\n",
            "4\n",
            "3\n",
            "6\n"
          ],
          "name": "stdout"
        }
      ]
    },
    {
      "cell_type": "code",
      "metadata": {
        "id": "2OL3NJj-yzx2",
        "colab_type": "code",
        "colab": {
          "base_uri": "https://localhost:8080/",
          "height": 170
        },
        "outputId": "7d523e85-0db1-4857-bbe9-751c75c2d83e"
      },
      "source": [
        "for i in range(1,10,1):\n",
        "     for j in range(1,10,1):\n",
        "          print(i, '*', j, '=', i*j, '\\t', sep='',end='')\n",
        "     print()"
      ],
      "execution_count": 7,
      "outputs": [
        {
          "output_type": "stream",
          "text": [
            "1*1=1\t1*2=2\t1*3=3\t1*4=4\t1*5=5\t1*6=6\t1*7=7\t1*8=8\t1*9=9\t\n",
            "2*1=2\t2*2=4\t2*3=6\t2*4=8\t2*5=10\t2*6=12\t2*7=14\t2*8=16\t2*9=18\t\n",
            "3*1=3\t3*2=6\t3*3=9\t3*4=12\t3*5=15\t3*6=18\t3*7=21\t3*8=24\t3*9=27\t\n",
            "4*1=4\t4*2=8\t4*3=12\t4*4=16\t4*5=20\t4*6=24\t4*7=28\t4*8=32\t4*9=36\t\n",
            "5*1=5\t5*2=10\t5*3=15\t5*4=20\t5*5=25\t5*6=30\t5*7=35\t5*8=40\t5*9=45\t\n",
            "6*1=6\t6*2=12\t6*3=18\t6*4=24\t6*5=30\t6*6=36\t6*7=42\t6*8=48\t6*9=54\t\n",
            "7*1=7\t7*2=14\t7*3=21\t7*4=28\t7*5=35\t7*6=42\t7*7=49\t7*8=56\t7*9=63\t\n",
            "8*1=8\t8*2=16\t8*3=24\t8*4=32\t8*5=40\t8*6=48\t8*7=56\t8*8=64\t8*9=72\t\n",
            "9*1=9\t9*2=18\t9*3=27\t9*4=36\t9*5=45\t9*6=54\t9*7=63\t9*8=72\t9*9=81\t\n"
          ],
          "name": "stdout"
        }
      ]
    },
    {
      "cell_type": "code",
      "metadata": {
        "id": "eMtQIKZ5zIRM",
        "colab_type": "code",
        "colab": {
          "base_uri": "https://localhost:8080/",
          "height": 323
        },
        "outputId": "9a7a3cd6-6538-4792-d4a8-8e9bad423914"
      },
      "source": [
        "for i in range(1,10,1):\n",
        "    for j in range(1,10,1):\n",
        "        print(i, '*', j, '=', i*j, '\\t', sep='',end='')\n",
        "    print()\n",
        "i = 0\n",
        "while i < 9:\n",
        "    i = i + 1\n",
        "    j = 1\n",
        "    while j < 10:\n",
        "        print(i, '*', j, '=', i*j, '\\t', sep='',end='')\n",
        "        j = j + 1\n",
        "    print( )"
      ],
      "execution_count": 8,
      "outputs": [
        {
          "output_type": "stream",
          "text": [
            "1*1=1\t1*2=2\t1*3=3\t1*4=4\t1*5=5\t1*6=6\t1*7=7\t1*8=8\t1*9=9\t\n",
            "2*1=2\t2*2=4\t2*3=6\t2*4=8\t2*5=10\t2*6=12\t2*7=14\t2*8=16\t2*9=18\t\n",
            "3*1=3\t3*2=6\t3*3=9\t3*4=12\t3*5=15\t3*6=18\t3*7=21\t3*8=24\t3*9=27\t\n",
            "4*1=4\t4*2=8\t4*3=12\t4*4=16\t4*5=20\t4*6=24\t4*7=28\t4*8=32\t4*9=36\t\n",
            "5*1=5\t5*2=10\t5*3=15\t5*4=20\t5*5=25\t5*6=30\t5*7=35\t5*8=40\t5*9=45\t\n",
            "6*1=6\t6*2=12\t6*3=18\t6*4=24\t6*5=30\t6*6=36\t6*7=42\t6*8=48\t6*9=54\t\n",
            "7*1=7\t7*2=14\t7*3=21\t7*4=28\t7*5=35\t7*6=42\t7*7=49\t7*8=56\t7*9=63\t\n",
            "8*1=8\t8*2=16\t8*3=24\t8*4=32\t8*5=40\t8*6=48\t8*7=56\t8*8=64\t8*9=72\t\n",
            "9*1=9\t9*2=18\t9*3=27\t9*4=36\t9*5=45\t9*6=54\t9*7=63\t9*8=72\t9*9=81\t\n",
            "1*1=1\t1*2=2\t1*3=3\t1*4=4\t1*5=5\t1*6=6\t1*7=7\t1*8=8\t1*9=9\t\n",
            "2*1=2\t2*2=4\t2*3=6\t2*4=8\t2*5=10\t2*6=12\t2*7=14\t2*8=16\t2*9=18\t\n",
            "3*1=3\t3*2=6\t3*3=9\t3*4=12\t3*5=15\t3*6=18\t3*7=21\t3*8=24\t3*9=27\t\n",
            "4*1=4\t4*2=8\t4*3=12\t4*4=16\t4*5=20\t4*6=24\t4*7=28\t4*8=32\t4*9=36\t\n",
            "5*1=5\t5*2=10\t5*3=15\t5*4=20\t5*5=25\t5*6=30\t5*7=35\t5*8=40\t5*9=45\t\n",
            "6*1=6\t6*2=12\t6*3=18\t6*4=24\t6*5=30\t6*6=36\t6*7=42\t6*8=48\t6*9=54\t\n",
            "7*1=7\t7*2=14\t7*3=21\t7*4=28\t7*5=35\t7*6=42\t7*7=49\t7*8=56\t7*9=63\t\n",
            "8*1=8\t8*2=16\t8*3=24\t8*4=32\t8*5=40\t8*6=48\t8*7=56\t8*8=64\t8*9=72\t\n",
            "9*1=9\t9*2=18\t9*3=27\t9*4=36\t9*5=45\t9*6=54\t9*7=63\t9*8=72\t9*9=81\t\n"
          ],
          "name": "stdout"
        }
      ]
    },
    {
      "cell_type": "code",
      "metadata": {
        "id": "weIo3PPozyfH",
        "colab_type": "code",
        "colab": {
          "base_uri": "https://localhost:8080/",
          "height": 68
        },
        "outputId": "c75d1b19-f7c5-4ce7-99da-5737bd23399a"
      },
      "source": [
        "for i in range(1,6):\n",
        "    print(i)\n",
        "    if i == 3:\n",
        "        break"
      ],
      "execution_count": 9,
      "outputs": [
        {
          "output_type": "stream",
          "text": [
            "1\n",
            "2\n",
            "3\n"
          ],
          "name": "stdout"
        }
      ]
    },
    {
      "cell_type": "code",
      "metadata": {
        "id": "2VjoYPbRz8GB",
        "colab_type": "code",
        "colab": {
          "base_uri": "https://localhost:8080/",
          "height": 85
        },
        "outputId": "624e4be3-5883-49ec-dbe7-3d52409ebcaf"
      },
      "source": [
        "i = 0\n",
        "while (i<5):\n",
        "    i += 1\n",
        "    if i == 3:\n",
        "        continue\n",
        "    print(i)"
      ],
      "execution_count": 10,
      "outputs": [
        {
          "output_type": "stream",
          "text": [
            "1\n",
            "2\n",
            "4\n",
            "5\n"
          ],
          "name": "stdout"
        }
      ]
    },
    {
      "cell_type": "code",
      "metadata": {
        "id": "hlZaLddT0BvG",
        "colab_type": "code",
        "colab": {
          "base_uri": "https://localhost:8080/",
          "height": 119
        },
        "outputId": "8fde6d63-d728-4984-e2ac-ed42b515d020"
      },
      "source": [
        "i = 1\n",
        "while (i<6):\n",
        "    print(i)\n",
        "    if i == 6:\n",
        "        break\n",
        "    i += 1\n",
        "else:\n",
        "    print('while迴圈正常結束')"
      ],
      "execution_count": 12,
      "outputs": [
        {
          "output_type": "stream",
          "text": [
            "1\n",
            "2\n",
            "3\n",
            "4\n",
            "5\n",
            "while迴圈正常結束\n"
          ],
          "name": "stdout"
        }
      ]
    },
    {
      "cell_type": "code",
      "metadata": {
        "id": "drOFSlc30M7a",
        "colab_type": "code",
        "colab": {
          "base_uri": "https://localhost:8080/",
          "height": 51
        },
        "outputId": "19e295f8-b816-453f-ab94-cf96797f4b6b"
      },
      "source": [
        "n = 0\n",
        "for x in [0,1,2,3]:\n",
        "    if x%2 == 0:\n",
        "        continue\n",
        "        n += 1\n",
        "    print(\"執行的元素是\", x)"
      ],
      "execution_count": 13,
      "outputs": [
        {
          "output_type": "stream",
          "text": [
            "執行的元素是 1\n",
            "執行的元素是 3\n"
          ],
          "name": "stdout"
        }
      ]
    }
  ]
}