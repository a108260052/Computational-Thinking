{
  "nbformat": 4,
  "nbformat_minor": 0,
  "metadata": {
    "colab": {
      "name": "while Untitled",
      "provenance": []
    },
    "kernelspec": {
      "name": "python3",
      "display_name": "Python 3"
    }
  },
  "cells": [
    {
      "cell_type": "code",
      "metadata": {
        "id": "RPQpBdHoqdVz",
        "colab_type": "code",
        "colab": {
          "base_uri": "https://localhost:8080/",
          "height": 51
        },
        "outputId": "8e075a18-f619-4b4d-9ef9-cf59f8945f31"
      },
      "source": [
        "answer = \"123\"\n",
        "while True:\n",
        "    password = input('請輸入帳號?')\n",
        "    if password == answer:\n",
        "     print('帳號正確')\n",
        "     break\n",
        "else:\n",
        "    print('登入失敗')"
      ],
      "execution_count": 4,
      "outputs": [
        {
          "output_type": "stream",
          "text": [
            "請輸入帳號?123\n",
            "帳號正確\n"
          ],
          "name": "stdout"
        }
      ]
    },
    {
      "cell_type": "code",
      "metadata": {
        "id": "XC3zKQkGqza9",
        "colab_type": "code",
        "colab": {
          "base_uri": "https://localhost:8080/",
          "height": 68
        },
        "outputId": "90538b77-95d1-42f6-bfc6-64b33aa2d317"
      },
      "source": [
        "while True:\n",
        "    acc = input('請輸入帳號?')\n",
        "    pwd = input('請輸入密碼?')\n",
        "    if (acc == '123' and pwd == '456'):\n",
        "       print('帳號與密碼正確')\n",
        "       break\n",
        "else:\n",
        "       print('登入失敗')"
      ],
      "execution_count": 11,
      "outputs": [
        {
          "output_type": "stream",
          "text": [
            "請輸入帳號?123\n",
            "請輸入密碼?456\n",
            "帳號與密碼正確\n"
          ],
          "name": "stdout"
        }
      ]
    },
    {
      "cell_type": "code",
      "metadata": {
        "id": "Kt2eoE1UuTI1",
        "colab_type": "code",
        "colab": {
          "base_uri": "https://localhost:8080/",
          "height": 51
        },
        "outputId": "a7385ce5-b64c-4885-f2e8-f8e815e822a1"
      },
      "source": [
        "password = \"456789\"\n",
        "times = 0\n",
        "while times <= 3:\n",
        "    answer = input(\"Enter Your Password: \")\n",
        "    if answer == password:\n",
        "       print(\"登入成功\")\n",
        "       break\n",
        "else:\n",
        "    times = times + 1\n",
        "    chance = 3 - times\n",
        "    print(\"密碼錯誤!還有\", chance, \"次機會\")"
      ],
      "execution_count": 20,
      "outputs": [
        {
          "output_type": "stream",
          "text": [
            "Enter Your Password: 456789\n",
            "登入成功\n"
          ],
          "name": "stdout"
        }
      ]
    },
    {
      "cell_type": "code",
      "metadata": {
        "id": "BEC3KkoZyEd8",
        "colab_type": "code",
        "colab": {}
      },
      "source": [
        ""
      ],
      "execution_count": 0,
      "outputs": []
    }
  ]
}